{
 "cells": [
  {
   "cell_type": "code",
   "execution_count": 1,
   "id": "6132d5a8",
   "metadata": {},
   "outputs": [],
   "source": [
    "import pandas as pd\n",
    "import json"
   ]
  },
  {
   "cell_type": "code",
   "execution_count": 13,
   "id": "2a359941",
   "metadata": {},
   "outputs": [
    {
     "data": {
      "text/plain": [
       "'{\"instruction\":\"成立緣由\",\"input\":null,\"output\":\"台南沙崙是中央政府5＋2產業綠能科技發展重鎮，而相關沙崙綠能科學城硬體建設都將於107年初陸續開工，台南市府與陽明交大共同見證沙崙轉型與產業興起。未來綠能科學城的建設將緊鑼密鼓的進行，園區內中研院南部分院、大臺南會展中心及聯外道路的開闢在108年初將陸續動工；陽明交大是沙崙綠能科學城第一個進駐的單位，於2009年台南分部「奇美樓」落成後，除了設立「光電學院」培育英才，也一路見證臺南沙崙的興起，是綠能科學城發展的重要合作夥伴，配合園區發展需要，陽明交大台南校區108學年度成立「智慧科學暨綠能學院」，帶動強化臺南產學研聚落綜效。\"}\\n{\"instruction\":\"學院簡介\",\"input\":null,\"output\":\"為迎合全球產業4.0 的挑戰，因應AI人才需要的躍進成長，培育同時具有電機、資訊、理工專長及業界實務經驗之產業人才，累積AI人力資本，全面提升國家競爭力。師資陣容堅強，強調跨領域的合作，包含多位講座教授及年輕人工智慧學者，創新的模化教學方式，提供人工智慧理論及領域實務專業訓練。國際大師以及產業界專家共同指導畢業論文研究，強調理論及實務並重，從「動腦思考」到「動手實作」，運用大數據、新演算法、機器學習、人工智慧等技術於各專業領域。本校台南校區已有多家知名廠商進駐，將通同成立產學聯研究中心，提供豐富的產業實習及就業機會。\"}\\n{\"instruction\":\"學院特色\",\"input\":null,\"output\":\"本學院合聘師資(講座、教師及研究員)，善用學界及研究生人力，共同指導研究生從事論文研究，從可行性探索到具有市場實用價值的研究，達到企業校園研發人力十倍增的目標，累積提升科技競爭力所需的人力資本。本學院與國際接軌，規劃62名師資員額，包括企業講座及合聘師資，以因應產業4.0的新挑戰，深化及優化產學合作績效，讓沙崙科學城成為專案研發基地以及新創事業的搖籃。\"}\\n{\"instruction\":\"交通資訊\",\"input\":null,\"output\":\"搭高鐵\\\\n搭至高鐵台南站下車，由1號出口出站往南直行，第一個紅綠燈左轉(歸仁十三路)，往前直行約500公尺\\\\n到底即可到達。\\\\n自行開車\\\\n中山高速公路南下：\\\\n由中山高速公路在330公里處接86系統交流道，往歸仁方向，在大潭武東交流道右轉接中正南路二段\\\\n，遇歸仁八路左轉，直行接歸仁五路到底，遇高發三路右轉即可到達。\\\\n南二高：\\\\n南二高357公里處關廟交流道下，往前開上86系統交流道，往大潭武東方向，在大潭武東交流道下接\\\\n中正南路二段，遇歸仁八路左轉直行接歸仁五路到底，遇高發三路右轉即可到達。\\\\n自台南市出發\\\\n搭乘高鐵免費快捷專車至高鐵台南站下車，由1號出口出站往南直行，第一個紅綠燈左轉(歸仁十三路)，往前直行約500公尺到底即可到達。乘車資訊如下：\\\\n◎ 台南火車站往 台鐵沙崙站(高鐵台南站)\\\\n台南火車站搭乘台鐵區間車前往 沙崙站\\\\n約30分鐘一班車，約20分鐘可到\"}\\n{\"instruction\":\"院辦成員\",\"input\":null,\"output\":\"行政專員\\\\/蔡旻軒小姐（產假）\\\\/ 06-3032121 #57738\\\\/hsuai@nycu.edu.tw\\\\n行政專員\\\\/任韻伶小姐\\\\t\\\\/ 06-3032121 #57761\\\\/ yljen@nycu.edu.tw\\\\n行政專員\\\\/陳柏廷先生（蔡旻軒職務代理人）\\\\n學院資安 \\\\/ 課程\\\\/ 委員會窗口、學生口試、學院活動及其他主管交辦事項\\\\/ 06-3032121 #57740\\\\/tadashi0504@nycu.edu.tw\"}\\n'"
      ]
     },
     "execution_count": 13,
     "metadata": {},
     "output_type": "execute_result"
    }
   ],
   "source": [
    "excel_file = 'AI.xlsx'  \n",
    "df = pd.read_excel(excel_file)\n",
    "json_data = df.to_json(orient='records', force_ascii=False, lines=True)\n",
    "with open('data.json', 'w', encoding='utf-8') as json_file:\n",
    "    json_file.write(json_data)\n",
    "json_data"
   ]
  }
 ],
 "metadata": {
  "kernelspec": {
   "display_name": "Python 3 (ipykernel)",
   "language": "python",
   "name": "python3"
  },
  "language_info": {
   "codemirror_mode": {
    "name": "ipython",
    "version": 3
   },
   "file_extension": ".py",
   "mimetype": "text/x-python",
   "name": "python",
   "nbconvert_exporter": "python",
   "pygments_lexer": "ipython3",
   "version": "3.11.4"
  }
 },
 "nbformat": 4,
 "nbformat_minor": 5
}
